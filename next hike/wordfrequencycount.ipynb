{
 "cells": [
  {
   "cell_type": "code",
   "execution_count": 2,
   "metadata": {},
   "outputs": [
    {
     "name": "stdout",
     "output_type": "stream",
     "text": [
      "latest                1\n",
      "article               1\n",
      "in                    1\n",
      "the                   1\n",
      "python                6\n",
      "selection             1\n",
      "1                     1\n",
      "3116                  1\n",
      "is                    1\n",
      "now                   3\n",
      "available             3\n",
      "2                     1\n",
      "3120                  2\n",
      "final                 1\n",
      "3                     2\n",
      "developers            1\n",
      "survey                1\n",
      "numbers               1\n",
      "for                   2\n",
      "2022                  1\n",
      "4                     1\n",
      "release               1\n",
      "candidate             1\n",
      "5                     1\n",
      "announcing            1\n",
      "software              1\n",
      "foundation            1\n",
      "fellow                1\n",
      "members               1\n",
      "q2                    1\n",
      "2023                  1\n"
     ]
    }
   ],
   "source": [
    "import string\n",
    "\n",
    "\n",
    "def string_punctuations(line):\n",
    "    for character in string.punctuation:\n",
    "        line = line.replace(character,\"\")\n",
    "    return line\n",
    "\n",
    "file_path = input(\"enter the file path:  \")\n",
    "\n",
    "word_count={}\n",
    "with open(file_path,'r') as fp:\n",
    "    for line in fp:\n",
    "        line = string_punctuations(line)\n",
    "        words = line.split()\n",
    "\n",
    "        for word in words:\n",
    "            word = word.lower()\n",
    "            if word not in word_count:\n",
    "                word_count[word] = 0\n",
    "            word_count[word]+=1\n",
    "\n",
    "w_frequency = list(word_count.keys())\n",
    "for word in w_frequency:\n",
    "    print(\"{0:15}{1:8d}\".format(word,word_count[word]))"
   ]
  }
 ],
 "metadata": {
  "kernelspec": {
   "display_name": "Python 3",
   "language": "python",
   "name": "python3"
  },
  "language_info": {
   "codemirror_mode": {
    "name": "ipython",
    "version": 3
   },
   "file_extension": ".py",
   "mimetype": "text/x-python",
   "name": "python",
   "nbconvert_exporter": "python",
   "pygments_lexer": "ipython3",
   "version": "3.11.5"
  }
 },
 "nbformat": 4,
 "nbformat_minor": 2
}
